{
 "cells": [
  {
   "cell_type": "markdown",
   "metadata": {},
   "source": [
    "## Python_Assignment2"
   ]
  },
  {
   "cell_type": "markdown",
   "metadata": {},
   "source": [
    "#### 1.\tWrite a Python program to convert kilometers to miles?"
   ]
  },
  {
   "cell_type": "code",
   "execution_count": 4,
   "metadata": {},
   "outputs": [
    {
     "name": "stdout",
     "output_type": "stream",
     "text": [
      "Distance in KM: 4234\n",
      "Distance in Miles:  2629.314\n"
     ]
    }
   ],
   "source": [
    "a = int(input('Distance in KM: '))\n",
    "print('Distance in Miles: ', a*0.621)"
   ]
  },
  {
   "cell_type": "markdown",
   "metadata": {},
   "source": [
    "#### 2.\tWrite a Python program to convert Celsius to Fahrenheit?"
   ]
  },
  {
   "cell_type": "code",
   "execution_count": 7,
   "metadata": {},
   "outputs": [
    {
     "name": "stdout",
     "output_type": "stream",
     "text": [
      "Temperature in Celsius: 213132\n",
      "Temperature in Fahrenheit:  383669.6\n"
     ]
    }
   ],
   "source": [
    "a = int(input('Temperature in Celsius: '))\n",
    "print('Temperature in Fahrenheit: ', ((a*9/5)+32))"
   ]
  },
  {
   "cell_type": "markdown",
   "metadata": {},
   "source": [
    "#### 3.\tWrite a Python program to display calendar?"
   ]
  },
  {
   "cell_type": "code",
   "execution_count": 12,
   "metadata": {},
   "outputs": [
    {
     "name": "stdout",
     "output_type": "stream",
     "text": [
      "Enter year2323\n",
      "Enter month05\n",
      "      May 2323\n",
      "Mo Tu We Th Fr Sa Su\n",
      "    1  2  3  4  5  6\n",
      " 7  8  9 10 11 12 13\n",
      "14 15 16 17 18 19 20\n",
      "21 22 23 24 25 26 27\n",
      "28 29 30 31\n",
      "\n"
     ]
    }
   ],
   "source": [
    "import calendar as cl\n",
    "yy = int(input('Enter year'))\n",
    "mm = int(input('Enter month'))\n",
    "print(cl.month(yy,mm))"
   ]
  },
  {
   "cell_type": "markdown",
   "metadata": {},
   "source": [
    "#### 4.\tWrite a Python program to solve quadratic equation?"
   ]
  },
  {
   "cell_type": "code",
   "execution_count": 19,
   "metadata": {},
   "outputs": [
    {
     "name": "stdout",
     "output_type": "stream",
     "text": [
      "Enter value for x square23\n",
      "Enter value for x23\n",
      "Enter the numeric value2\n",
      "The values for x are: (-0.9037864265436241+0j) (-0.09621357345637588+0j)\n"
     ]
    }
   ],
   "source": [
    "import cmath as cm\n",
    "a = int(input('Enter value for x square'))\n",
    "b = int(input('Enter value for x'))\n",
    "c = int(input('Enter the numeric value'))\n",
    "d = b**2 - (4*a*c)\n",
    "\n",
    "v1 = (-b-cm.sqrt(d))/(2*a)\n",
    "v2 = (-b+cm.sqrt(d))/(2*a)\n",
    "\n",
    "print('The values for x are:', v1, v2)"
   ]
  },
  {
   "cell_type": "markdown",
   "metadata": {},
   "source": [
    "#### 5.\tWrite a Python program to swap two variables without temp variable?"
   ]
  },
  {
   "cell_type": "code",
   "execution_count": 22,
   "metadata": {},
   "outputs": [
    {
     "name": "stdout",
     "output_type": "stream",
     "text": [
      "Enter 1st Value23\n",
      "Enter 2nd Value45\n",
      "Before swapping values are: a = 23 and b = 45\n",
      "After swapping values are: a = 45 and b = 23\n"
     ]
    }
   ],
   "source": [
    "a = int(input('Enter 1st Value'))\n",
    "b = int(input('Enter 2nd Value'))\n",
    "\n",
    "print('Before swapping values are: a = {0} and b = {1}'.format(a,b))\n",
    "a,b = b,a\n",
    "\n",
    "print('After swapping values are: a = {0} and b = {1}'.format(a,b))"
   ]
  }
 ],
 "metadata": {
  "kernelspec": {
   "display_name": "Python 3",
   "language": "python",
   "name": "python3"
  },
  "language_info": {
   "codemirror_mode": {
    "name": "ipython",
    "version": 3
   },
   "file_extension": ".py",
   "mimetype": "text/x-python",
   "name": "python",
   "nbconvert_exporter": "python",
   "pygments_lexer": "ipython3",
   "version": "3.8.5"
  }
 },
 "nbformat": 4,
 "nbformat_minor": 4
}
